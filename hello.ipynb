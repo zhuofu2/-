{
 "cells": [
  {
   "cell_type": "code",
   "execution_count": 45,
   "id": "a16bf75b",
   "metadata": {},
   "outputs": [],
   "source": [
    "import numpy as np\n",
    "import pandas as pd"
   ]
  },
  {
   "cell_type": "code",
   "execution_count": 48,
   "id": "cdbb833c",
   "metadata": {},
   "outputs": [],
   "source": [
    "# 配置中文字体\n",
    "import matplotlib.pyplot as plt\n",
    "plt.rcParams['font.sans-serif'] = ['SimHei']  # 指定中文字体\n",
    "plt.rcParams['axes.unicode_minus'] = False  # 解决负号显示问题"
   ]
  },
  {
   "cell_type": "code",
   "execution_count": 49,
   "id": "1dcaf346",
   "metadata": {},
   "outputs": [],
   "source": [
    "df=pd.read_excel('aaa.xlsx')"
   ]
  },
  {
   "cell_type": "code",
   "execution_count": 7,
   "id": "a539065d",
   "metadata": {},
   "outputs": [
    {
     "data": {
      "text/html": [
       "<div>\n",
       "<style scoped>\n",
       "    .dataframe tbody tr th:only-of-type {\n",
       "        vertical-align: middle;\n",
       "    }\n",
       "\n",
       "    .dataframe tbody tr th {\n",
       "        vertical-align: top;\n",
       "    }\n",
       "\n",
       "    .dataframe thead th {\n",
       "        text-align: right;\n",
       "    }\n",
       "</style>\n",
       "<table border=\"1\" class=\"dataframe\">\n",
       "  <thead>\n",
       "    <tr style=\"text-align: right;\">\n",
       "      <th></th>\n",
       "      <th>CustomerID</th>\n",
       "      <th>Churn</th>\n",
       "      <th>Tenure</th>\n",
       "      <th>PreferredLoginDevice</th>\n",
       "      <th>CityTier</th>\n",
       "      <th>WarehouseToHome</th>\n",
       "      <th>MaritalStatus</th>\n",
       "      <th>AgeGroup</th>\n",
       "      <th>Gender</th>\n",
       "      <th>HourSpendOnApp</th>\n",
       "      <th>OrderCount</th>\n",
       "      <th>OrderAmountHikeFromlastYear</th>\n",
       "      <th>DaySinceLastOrder</th>\n",
       "      <th>PreferedOrderCat</th>\n",
       "      <th>NumberOfStreamerFollowed</th>\n",
       "      <th>SatisfactionScore</th>\n",
       "      <th>Complain</th>\n",
       "      <th>CouponUsed</th>\n",
       "      <th>DiscountAmount</th>\n",
       "    </tr>\n",
       "  </thead>\n",
       "  <tbody>\n",
       "    <tr>\n",
       "      <th>0</th>\n",
       "      <td>50001</td>\n",
       "      <td>1</td>\n",
       "      <td>4.0</td>\n",
       "      <td>Mobile Phone</td>\n",
       "      <td>3</td>\n",
       "      <td>6.0</td>\n",
       "      <td>Single</td>\n",
       "      <td>3</td>\n",
       "      <td>Female</td>\n",
       "      <td>3.0</td>\n",
       "      <td>1.0</td>\n",
       "      <td>11.0</td>\n",
       "      <td>5.0</td>\n",
       "      <td>Laptop &amp; Accessory</td>\n",
       "      <td>9</td>\n",
       "      <td>2</td>\n",
       "      <td>1</td>\n",
       "      <td>1.0</td>\n",
       "      <td>160</td>\n",
       "    </tr>\n",
       "    <tr>\n",
       "      <th>1</th>\n",
       "      <td>50002</td>\n",
       "      <td>1</td>\n",
       "      <td>NaN</td>\n",
       "      <td>Phone</td>\n",
       "      <td>1</td>\n",
       "      <td>8.0</td>\n",
       "      <td>Single</td>\n",
       "      <td>4</td>\n",
       "      <td>Male</td>\n",
       "      <td>3.0</td>\n",
       "      <td>1.0</td>\n",
       "      <td>15.0</td>\n",
       "      <td>0.0</td>\n",
       "      <td>Household</td>\n",
       "      <td>7</td>\n",
       "      <td>3</td>\n",
       "      <td>1</td>\n",
       "      <td>0.0</td>\n",
       "      <td>121</td>\n",
       "    </tr>\n",
       "    <tr>\n",
       "      <th>2</th>\n",
       "      <td>50003</td>\n",
       "      <td>1</td>\n",
       "      <td>NaN</td>\n",
       "      <td>Phone</td>\n",
       "      <td>1</td>\n",
       "      <td>30.0</td>\n",
       "      <td>Single</td>\n",
       "      <td>4</td>\n",
       "      <td>Male</td>\n",
       "      <td>2.0</td>\n",
       "      <td>1.0</td>\n",
       "      <td>14.0</td>\n",
       "      <td>3.0</td>\n",
       "      <td>Household</td>\n",
       "      <td>6</td>\n",
       "      <td>3</td>\n",
       "      <td>1</td>\n",
       "      <td>0.0</td>\n",
       "      <td>120</td>\n",
       "    </tr>\n",
       "    <tr>\n",
       "      <th>3</th>\n",
       "      <td>50004</td>\n",
       "      <td>1</td>\n",
       "      <td>3.0</td>\n",
       "      <td>Phone</td>\n",
       "      <td>3</td>\n",
       "      <td>15.0</td>\n",
       "      <td>Single</td>\n",
       "      <td>4</td>\n",
       "      <td>Male</td>\n",
       "      <td>2.0</td>\n",
       "      <td>1.0</td>\n",
       "      <td>23.0</td>\n",
       "      <td>3.0</td>\n",
       "      <td>Laptop &amp; Accessory</td>\n",
       "      <td>8</td>\n",
       "      <td>5</td>\n",
       "      <td>0</td>\n",
       "      <td>0.0</td>\n",
       "      <td>134</td>\n",
       "    </tr>\n",
       "    <tr>\n",
       "      <th>4</th>\n",
       "      <td>50005</td>\n",
       "      <td>1</td>\n",
       "      <td>3.0</td>\n",
       "      <td>Phone</td>\n",
       "      <td>1</td>\n",
       "      <td>12.0</td>\n",
       "      <td>Single</td>\n",
       "      <td>3</td>\n",
       "      <td>Male</td>\n",
       "      <td>NaN</td>\n",
       "      <td>1.0</td>\n",
       "      <td>11.0</td>\n",
       "      <td>3.0</td>\n",
       "      <td>Household</td>\n",
       "      <td>3</td>\n",
       "      <td>5</td>\n",
       "      <td>0</td>\n",
       "      <td>1.0</td>\n",
       "      <td>130</td>\n",
       "    </tr>\n",
       "    <tr>\n",
       "      <th>...</th>\n",
       "      <td>...</td>\n",
       "      <td>...</td>\n",
       "      <td>...</td>\n",
       "      <td>...</td>\n",
       "      <td>...</td>\n",
       "      <td>...</td>\n",
       "      <td>...</td>\n",
       "      <td>...</td>\n",
       "      <td>...</td>\n",
       "      <td>...</td>\n",
       "      <td>...</td>\n",
       "      <td>...</td>\n",
       "      <td>...</td>\n",
       "      <td>...</td>\n",
       "      <td>...</td>\n",
       "      <td>...</td>\n",
       "      <td>...</td>\n",
       "      <td>...</td>\n",
       "      <td>...</td>\n",
       "    </tr>\n",
       "    <tr>\n",
       "      <th>5625</th>\n",
       "      <td>55626</td>\n",
       "      <td>0</td>\n",
       "      <td>13.0</td>\n",
       "      <td>Pad</td>\n",
       "      <td>1</td>\n",
       "      <td>30.0</td>\n",
       "      <td>Married</td>\n",
       "      <td>2</td>\n",
       "      <td>Male</td>\n",
       "      <td>3.0</td>\n",
       "      <td>2.0</td>\n",
       "      <td>18.0</td>\n",
       "      <td>4.0</td>\n",
       "      <td>Laptop &amp; Accessory</td>\n",
       "      <td>6</td>\n",
       "      <td>1</td>\n",
       "      <td>0</td>\n",
       "      <td>1.0</td>\n",
       "      <td>151</td>\n",
       "    </tr>\n",
       "    <tr>\n",
       "      <th>5626</th>\n",
       "      <td>55627</td>\n",
       "      <td>0</td>\n",
       "      <td>13.0</td>\n",
       "      <td>Mobile Phone</td>\n",
       "      <td>1</td>\n",
       "      <td>13.0</td>\n",
       "      <td>Married</td>\n",
       "      <td>5</td>\n",
       "      <td>Male</td>\n",
       "      <td>3.0</td>\n",
       "      <td>2.0</td>\n",
       "      <td>16.0</td>\n",
       "      <td>NaN</td>\n",
       "      <td>Fashion</td>\n",
       "      <td>6</td>\n",
       "      <td>5</td>\n",
       "      <td>0</td>\n",
       "      <td>1.0</td>\n",
       "      <td>225</td>\n",
       "    </tr>\n",
       "    <tr>\n",
       "      <th>5627</th>\n",
       "      <td>55628</td>\n",
       "      <td>0</td>\n",
       "      <td>1.0</td>\n",
       "      <td>Mobile Phone</td>\n",
       "      <td>1</td>\n",
       "      <td>11.0</td>\n",
       "      <td>Married</td>\n",
       "      <td>2</td>\n",
       "      <td>Male</td>\n",
       "      <td>3.0</td>\n",
       "      <td>2.0</td>\n",
       "      <td>21.0</td>\n",
       "      <td>4.0</td>\n",
       "      <td>Laptop &amp; Accessory</td>\n",
       "      <td>3</td>\n",
       "      <td>4</td>\n",
       "      <td>1</td>\n",
       "      <td>1.0</td>\n",
       "      <td>186</td>\n",
       "    </tr>\n",
       "    <tr>\n",
       "      <th>5628</th>\n",
       "      <td>55629</td>\n",
       "      <td>0</td>\n",
       "      <td>23.0</td>\n",
       "      <td>Pad</td>\n",
       "      <td>3</td>\n",
       "      <td>9.0</td>\n",
       "      <td>Married</td>\n",
       "      <td>5</td>\n",
       "      <td>Male</td>\n",
       "      <td>4.0</td>\n",
       "      <td>2.0</td>\n",
       "      <td>15.0</td>\n",
       "      <td>9.0</td>\n",
       "      <td>Laptop &amp; Accessory</td>\n",
       "      <td>4</td>\n",
       "      <td>4</td>\n",
       "      <td>0</td>\n",
       "      <td>2.0</td>\n",
       "      <td>179</td>\n",
       "    </tr>\n",
       "    <tr>\n",
       "      <th>5629</th>\n",
       "      <td>55630</td>\n",
       "      <td>0</td>\n",
       "      <td>8.0</td>\n",
       "      <td>Mobile Phone</td>\n",
       "      <td>1</td>\n",
       "      <td>15.0</td>\n",
       "      <td>Married</td>\n",
       "      <td>2</td>\n",
       "      <td>Male</td>\n",
       "      <td>3.0</td>\n",
       "      <td>2.0</td>\n",
       "      <td>13.0</td>\n",
       "      <td>3.0</td>\n",
       "      <td>Laptop &amp; Accessory</td>\n",
       "      <td>4</td>\n",
       "      <td>3</td>\n",
       "      <td>0</td>\n",
       "      <td>2.0</td>\n",
       "      <td>169</td>\n",
       "    </tr>\n",
       "  </tbody>\n",
       "</table>\n",
       "<p>5630 rows × 19 columns</p>\n",
       "</div>"
      ],
      "text/plain": [
       "      CustomerID  Churn  Tenure PreferredLoginDevice  CityTier  \\\n",
       "0          50001      1     4.0         Mobile Phone         3   \n",
       "1          50002      1     NaN                Phone         1   \n",
       "2          50003      1     NaN                Phone         1   \n",
       "3          50004      1     3.0                Phone         3   \n",
       "4          50005      1     3.0                Phone         1   \n",
       "...          ...    ...     ...                  ...       ...   \n",
       "5625       55626      0    13.0                  Pad         1   \n",
       "5626       55627      0    13.0         Mobile Phone         1   \n",
       "5627       55628      0     1.0         Mobile Phone         1   \n",
       "5628       55629      0    23.0                  Pad         3   \n",
       "5629       55630      0     8.0         Mobile Phone         1   \n",
       "\n",
       "      WarehouseToHome MaritalStatus  AgeGroup  Gender  HourSpendOnApp  \\\n",
       "0                 6.0        Single         3  Female             3.0   \n",
       "1                 8.0        Single         4    Male             3.0   \n",
       "2                30.0        Single         4    Male             2.0   \n",
       "3                15.0        Single         4    Male             2.0   \n",
       "4                12.0        Single         3    Male             NaN   \n",
       "...               ...           ...       ...     ...             ...   \n",
       "5625             30.0       Married         2    Male             3.0   \n",
       "5626             13.0       Married         5    Male             3.0   \n",
       "5627             11.0       Married         2    Male             3.0   \n",
       "5628              9.0       Married         5    Male             4.0   \n",
       "5629             15.0       Married         2    Male             3.0   \n",
       "\n",
       "      OrderCount  OrderAmountHikeFromlastYear  DaySinceLastOrder  \\\n",
       "0            1.0                         11.0                5.0   \n",
       "1            1.0                         15.0                0.0   \n",
       "2            1.0                         14.0                3.0   \n",
       "3            1.0                         23.0                3.0   \n",
       "4            1.0                         11.0                3.0   \n",
       "...          ...                          ...                ...   \n",
       "5625         2.0                         18.0                4.0   \n",
       "5626         2.0                         16.0                NaN   \n",
       "5627         2.0                         21.0                4.0   \n",
       "5628         2.0                         15.0                9.0   \n",
       "5629         2.0                         13.0                3.0   \n",
       "\n",
       "        PreferedOrderCat  NumberOfStreamerFollowed  SatisfactionScore  \\\n",
       "0     Laptop & Accessory                         9                  2   \n",
       "1              Household                         7                  3   \n",
       "2              Household                         6                  3   \n",
       "3     Laptop & Accessory                         8                  5   \n",
       "4              Household                         3                  5   \n",
       "...                  ...                       ...                ...   \n",
       "5625  Laptop & Accessory                         6                  1   \n",
       "5626             Fashion                         6                  5   \n",
       "5627  Laptop & Accessory                         3                  4   \n",
       "5628  Laptop & Accessory                         4                  4   \n",
       "5629  Laptop & Accessory                         4                  3   \n",
       "\n",
       "      Complain  CouponUsed  DiscountAmount  \n",
       "0            1         1.0             160  \n",
       "1            1         0.0             121  \n",
       "2            1         0.0             120  \n",
       "3            0         0.0             134  \n",
       "4            0         1.0             130  \n",
       "...        ...         ...             ...  \n",
       "5625         0         1.0             151  \n",
       "5626         0         1.0             225  \n",
       "5627         1         1.0             186  \n",
       "5628         0         2.0             179  \n",
       "5629         0         2.0             169  \n",
       "\n",
       "[5630 rows x 19 columns]"
      ]
     },
     "execution_count": 7,
     "metadata": {},
     "output_type": "execute_result"
    }
   ],
   "source": [
    "df"
   ]
  },
  {
   "cell_type": "code",
   "execution_count": 8,
   "id": "0fca43f9",
   "metadata": {},
   "outputs": [],
   "source": [
    "#字段描述"
   ]
  },
  {
   "cell_type": "code",
   "execution_count": null,
   "id": "6d1d8514",
   "metadata": {},
   "outputs": [],
   "source": [
    "CustomerID: 唯一的顾客ID\n",
    "Churn: 顾客的流失标志，1表示已流失，0表示未流失\n",
    "Tenure: 使用平台的时长（以月为单位）\n",
    "PreferredLoginDevice: 顾客偏好的登录设备\n",
    "CityTier: 城市等级\n",
    "WarehouseToHome: 仓库到顾客家的距离\n",
    "MaritalStatus: 顾客的婚姻状况\n",
    "AgeGroup: 顾客的年龄段\n",
    "Gender: 顾客的性别\n",
    "HourSpendOnApp: 顾客每天在应用上花费的时间（小时）\n",
    "OrderCount: 顾客的订单数量\n",
    "OrderAmountHikeFromlastYear: 订单金额与上一年相比的增长百分比\n",
    "DaySinceLastOrder: 距离上次订单的天数\n",
    "PreferedOrderCat: 顾客偏好的订单类别\n",
    "NumberOfStreamerFollowed: 顾客关注的流媒体数量\n",
    "SatisfactionScore: 顾客对服务的满意度评分\n",
    "Complain: 顾客是否在过去一个月内有投诉，1表示有投诉，0表示无投诉\n",
    "CouponUsed: 顾客使用的优惠券数量\n",
    "DiscountAmount: 过去一个月的平均返现金额"
   ]
  },
  {
   "cell_type": "code",
   "execution_count": null,
   "id": "9e8a3ea5",
   "metadata": {},
   "outputs": [],
   "source": [
    "# 字段信息"
   ]
  },
  {
   "cell_type": "code",
   "execution_count": 94,
   "id": "3ecb5a6e",
   "metadata": {},
   "outputs": [
    {
     "name": "stdout",
     "output_type": "stream",
     "text": [
      "<class 'pandas.core.frame.DataFrame'>\n",
      "RangeIndex: 5630 entries, 0 to 5629\n",
      "Data columns (total 19 columns):\n",
      " #   Column                       Non-Null Count  Dtype  \n",
      "---  ------                       --------------  -----  \n",
      " 0   CustomerID                   5630 non-null   int64  \n",
      " 1   Churn                        5630 non-null   int64  \n",
      " 2   Tenure                       5366 non-null   float64\n",
      " 3   PreferredLoginDevice         5630 non-null   object \n",
      " 4   CityTier                     5630 non-null   int64  \n",
      " 5   WarehouseToHome              5379 non-null   float64\n",
      " 6   MaritalStatus                5630 non-null   object \n",
      " 7   AgeGroup                     5630 non-null   int64  \n",
      " 8   Gender                       5630 non-null   object \n",
      " 9   HourSpendOnApp               5375 non-null   float64\n",
      " 10  OrderCount                   5372 non-null   float64\n",
      " 11  OrderAmountHikeFromlastYear  5365 non-null   float64\n",
      " 12  DaySinceLastOrder            5323 non-null   float64\n",
      " 13  PreferedOrderCat             5630 non-null   object \n",
      " 14  NumberOfStreamerFollowed     5630 non-null   int64  \n",
      " 15  SatisfactionScore            5630 non-null   int64  \n",
      " 16  Complain                     5630 non-null   int64  \n",
      " 17  CouponUsed                   5374 non-null   float64\n",
      " 18  DiscountAmount               5630 non-null   int64  \n",
      "dtypes: float64(7), int64(8), object(4)\n",
      "memory usage: 835.8+ KB\n"
     ]
    }
   ],
   "source": [
    "df.info()"
   ]
  },
  {
   "cell_type": "code",
   "execution_count": 50,
   "id": "6bc376b3",
   "metadata": {},
   "outputs": [],
   "source": [
    "# 处理缺失值\n",
    "df['Tenure'].replace(np.nan,df['Tenure'].median(),inplace=True)"
   ]
  },
  {
   "cell_type": "code",
   "execution_count": 51,
   "id": "1850e7f7",
   "metadata": {},
   "outputs": [],
   "source": [
    "df['WarehouseToHome'].replace(np.nan,df['WarehouseToHome'].median(),inplace=True)"
   ]
  },
  {
   "cell_type": "code",
   "execution_count": 52,
   "id": "2ece8a4f",
   "metadata": {},
   "outputs": [],
   "source": [
    "df['HourSpendOnApp'].replace(np.nan,df['HourSpendOnApp'].median(),inplace=True)"
   ]
  },
  {
   "cell_type": "code",
   "execution_count": 53,
   "id": "648b270b",
   "metadata": {},
   "outputs": [],
   "source": [
    "df['OrderCount'].replace(np.nan,df['OrderCount'].median(),inplace=True)"
   ]
  },
  {
   "cell_type": "code",
   "execution_count": 54,
   "id": "f0a90674",
   "metadata": {},
   "outputs": [],
   "source": [
    "df['CouponUsed'].replace(np.nan,df['CouponUsed'].median(),inplace=True)"
   ]
  },
  {
   "cell_type": "code",
   "execution_count": 55,
   "id": "e2e74f77",
   "metadata": {},
   "outputs": [],
   "source": [
    "df.dropna(inplace=True)"
   ]
  },
  {
   "cell_type": "code",
   "execution_count": 22,
   "id": "bbd3a82c",
   "metadata": {},
   "outputs": [
    {
     "name": "stdout",
     "output_type": "stream",
     "text": [
      "<class 'pandas.core.frame.DataFrame'>\n",
      "Int64Index: 5058 entries, 0 to 5629\n",
      "Data columns (total 19 columns):\n",
      " #   Column                       Non-Null Count  Dtype  \n",
      "---  ------                       --------------  -----  \n",
      " 0   CustomerID                   5058 non-null   int64  \n",
      " 1   Churn                        5058 non-null   int64  \n",
      " 2   Tenure                       5058 non-null   float64\n",
      " 3   PreferredLoginDevice         5058 non-null   object \n",
      " 4   CityTier                     5058 non-null   int64  \n",
      " 5   WarehouseToHome              5058 non-null   float64\n",
      " 6   MaritalStatus                5058 non-null   object \n",
      " 7   AgeGroup                     5058 non-null   int64  \n",
      " 8   Gender                       5058 non-null   object \n",
      " 9   HourSpendOnApp               5058 non-null   float64\n",
      " 10  OrderCount                   5058 non-null   float64\n",
      " 11  OrderAmountHikeFromlastYear  5058 non-null   float64\n",
      " 12  DaySinceLastOrder            5058 non-null   float64\n",
      " 13  PreferedOrderCat             5058 non-null   object \n",
      " 14  NumberOfStreamerFollowed     5058 non-null   int64  \n",
      " 15  SatisfactionScore            5058 non-null   int64  \n",
      " 16  Complain                     5058 non-null   int64  \n",
      " 17  CouponUsed                   5058 non-null   float64\n",
      " 18  DiscountAmount               5058 non-null   int64  \n",
      "dtypes: float64(7), int64(8), object(4)\n",
      "memory usage: 790.3+ KB\n"
     ]
    }
   ],
   "source": [
    "df.info()"
   ]
  },
  {
   "cell_type": "code",
   "execution_count": 23,
   "id": "289558c9",
   "metadata": {},
   "outputs": [],
   "source": [
    "#数据的分布情况"
   ]
  },
  {
   "cell_type": "code",
   "execution_count": 24,
   "id": "910e7fb5",
   "metadata": {
    "scrolled": true
   },
   "outputs": [
    {
     "data": {
      "image/png": "[encoded data removed]",
      "text/plain": [
       "<Figure size 576x432 with 1 Axes>"
      ]
     },
     "metadata": {
      "needs_background": "light"
     },
     "output_type": "display_data"
    }
   ],
   "source": [
    "import matplotlib.pyplot as plt\n",
    "\n",
    "# 计算数据\n",
    "churn = df['Churn'].value_counts()\n",
    "\n",
    "# 设置图表尺寸\n",
    "plt.figure(figsize=(8, 6))\n",
    "\n",
    "# 绘制柱状图\n",
    "bars=plt.bar(churn.index, churn.values, color='steelblue', edgecolor='black', linewidth=1, alpha=0.7, label='Churn')\n",
    "\n",
    "for bar in bars:\n",
    "    plt.gca().text(bar.get_x() + bar.get_width() / 2, bar.get_height(), bar.get_height(), ha='center', va='bottom')\n",
    "\n",
    "# 设置标题和标签\n",
    "plt.title('用户流失人数对比', fontweight='bold')\n",
    "plt.xlabel('分类', fontweight='bold')\n",
    "plt.ylabel('人数', fontweight='bold')\n",
    "\n",
    "# plt.xticks([0,1])\n",
    "# 显示图形\n",
    "plt.show()\n"
   ]
  },
  {
   "cell_type": "code",
   "execution_count": 118,
   "id": "471bd200",
   "metadata": {},
   "outputs": [
    {
     "data": {
      "text/plain": [
       "count    5058.000000\n",
       "mean        9.986358\n",
       "std         7.957422\n",
       "min         1.000000\n",
       "25%         3.000000\n",
       "50%         9.000000\n",
       "75%        14.000000\n",
       "max        63.000000\n",
       "Name: Tenure, dtype: float64"
      ]
     },
     "execution_count": 118,
     "metadata": {},
     "output_type": "execute_result"
    }
   ],
   "source": [
    "df['Tenure'].describe()"
   ]
  },
  {
   "cell_type": "code",
   "execution_count": 145,
   "id": "fc8e96fb",
   "metadata": {},
   "outputs": [
    {
     "data": {
      "image/png": "[encoded data removed]",
      "text/plain": [
       "<Figure size 432x288 with 1 Axes>"
      ]
     },
     "metadata": {
      "needs_background": "light"
     },
     "output_type": "display_data"
    }
   ],
   "source": [
    "plt.hist(df['Tenure'],bins=15)\n",
    "plt.title('使用平台时长（以月为单位）')\n",
    "plt.show()"
   ]
  },
  {
   "cell_type": "code",
   "execution_count": 130,
   "id": "d3f49649",
   "metadata": {},
   "outputs": [],
   "source": [
    "pre=df['PreferredLoginDevice'].value_counts()"
   ]
  },
  {
   "cell_type": "code",
   "execution_count": 140,
   "id": "fd0f8394",
   "metadata": {},
   "outputs": [
    {
     "data": {
      "image/png": "[encoded data removed]",
      "text/plain": [
       "<Figure size 432x288 with 1 Axes>"
      ]
     },
     "metadata": {},
     "output_type": "display_data"
    }
   ],
   "source": [
    "labels=pre.index.tolist()\n",
    "sizes=pre.values.tolist()\n",
    "plt.pie(sizes,labels=labels,autopct='%1.1f%%')\n",
    "plt.show()"
   ]
  },
  {
   "cell_type": "code",
   "execution_count": 143,
   "id": "adede475",
   "metadata": {},
   "outputs": [
    {
     "data": {
      "image/png": "[encoded data removed]",
      "text/plain": [
       "<Figure size 432x288 with 1 Axes>"
      ]
     },
     "metadata": {
      "needs_background": "light"
     },
     "output_type": "display_data"
    }
   ],
   "source": [
    "plt.hist(df['CityTier'],bins=3)\n",
    "plt.title('城市等级的直方图')\n",
    "plt.show()"
   ]
  },
  {
   "cell_type": "code",
   "execution_count": 147,
   "id": "79293c6a",
   "metadata": {},
   "outputs": [
    {
     "data": {
      "text/plain": [
       "count    5058.000000\n",
       "mean       15.611309\n",
       "std         8.375646\n",
       "min         5.000000\n",
       "25%         9.000000\n",
       "50%        14.000000\n",
       "75%        20.000000\n",
       "max       127.000000\n",
       "Name: WarehouseToHome, dtype: float64"
      ]
     },
     "execution_count": 147,
     "metadata": {},
     "output_type": "execute_result"
    }
   ],
   "source": [
    "df['WarehouseToHome'].describe()"
   ]
  },
  {
   "cell_type": "code",
   "execution_count": 156,
   "id": "4e55d6c3",
   "metadata": {},
   "outputs": [
    {
     "data": {
      "image/png": "[encoded data removed]",
      "text/plain": [
       "<Figure size 432x288 with 1 Axes>"
      ]
     },
     "metadata": {
      "needs_background": "light"
     },
     "output_type": "display_data"
    }
   ],
   "source": [
    "plt.hist(df['WarehouseToHome'],bins=[5,10,15,20,25,30,35,40])\n",
    "plt.title('仓库到顾客家的距离直方图')\n",
    "plt.xlabel('距离（km)')\n",
    "plt.ylabel('人数')\n",
    "plt.show()"
   ]
  },
  {
   "cell_type": "code",
   "execution_count": 159,
   "id": "b14effb2",
   "metadata": {},
   "outputs": [],
   "source": [
    "mar=df['MaritalStatus'].value_counts()"
   ]
  },
  {
   "cell_type": "code",
   "execution_count": 165,
   "id": "31302cda",
   "metadata": {},
   "outputs": [
    {
     "data": {
      "text/plain": [
       "<function matplotlib.pyplot.bar(x, height, width=0.8, bottom=None, *, align='center', data=None, **kwargs)>"
      ]
     },
     "execution_count": 165,
     "metadata": {},
     "output_type": "execute_result"
    },
    {
     "data": {
      "image/png": "[encoded data removed]",
      "text/plain": [
       "<Figure size 432x288 with 1 Axes>"
      ]
     },
     "metadata": {
      "needs_background": "light"
     },
     "output_type": "display_data"
    }
   ],
   "source": [
    "colors=['steelblue', 'lightgreen', 'salmon']\n",
    "plt.bar(mar.index,mar.values,color=colors)\n",
    "plt.title('顾客的婚姻状况条形图')\n",
    "plt.bar"
   ]
  },
  {
   "cell_type": "code",
   "execution_count": 167,
   "id": "2597712a",
   "metadata": {},
   "outputs": [
    {
     "data": {
      "text/plain": [
       "4    2073\n",
       "3    1612\n",
       "5     746\n",
       "2     257\n",
       "1     228\n",
       "6     142\n",
       "Name: AgeGroup, dtype: int64"
      ]
     },
     "execution_count": 167,
     "metadata": {},
     "output_type": "execute_result"
    }
   ],
   "source": [
    "df['AgeGroup'].value_counts()"
   ]
  },
  {
   "cell_type": "code",
   "execution_count": 170,
   "id": "b3b73f87",
   "metadata": {},
   "outputs": [
    {
     "data": {
      "image/png": "[encoded data removed]",
      "text/plain": [
       "<Figure size 432x288 with 1 Axes>"
      ]
     },
     "metadata": {
      "needs_background": "light"
     },
     "output_type": "display_data"
    }
   ],
   "source": [
    "plt.hist(df['AgeGroup'],bins=6)\n",
    "plt.title('年龄分布直方图')\n",
    "plt.show()"
   ]
  },
  {
   "cell_type": "code",
   "execution_count": 173,
   "id": "36908646",
   "metadata": {},
   "outputs": [
    {
     "data": {
      "text/plain": [
       "Male      3020\n",
       "Female    2038\n",
       "Name: Gender, dtype: int64"
      ]
     },
     "execution_count": 173,
     "metadata": {},
     "output_type": "execute_result"
    }
   ],
   "source": [
    "gen=df['Gender'].value_counts()\n",
    "gen"
   ]
  },
  {
   "cell_type": "code",
   "execution_count": 176,
   "id": "362f87d4",
   "metadata": {},
   "outputs": [
    {
     "data": {
      "image/png": "[encoded data removed]",
      "text/plain": [
       "<Figure size 432x288 with 1 Axes>"
      ]
     },
     "metadata": {
      "needs_background": "light"
     },
     "output_type": "display_data"
    }
   ],
   "source": [
    "colors=['steelblue', 'lightgreen']\n",
    "plt.bar(gen.index,gen.values,color=colors)\n",
    "plt.title('顾客性别分布')\n",
    "plt.show()"
   ]
  },
  {
   "cell_type": "code",
   "execution_count": 178,
   "id": "8f4de5ec",
   "metadata": {},
   "outputs": [
    {
     "data": {
      "text/plain": [
       "count    5058.000000\n",
       "mean        2.912218\n",
       "std         0.706621\n",
       "min         0.000000\n",
       "25%         2.000000\n",
       "50%         3.000000\n",
       "75%         3.000000\n",
       "max         5.000000\n",
       "Name: HourSpendOnApp, dtype: float64"
      ]
     },
     "execution_count": 178,
     "metadata": {},
     "output_type": "execute_result"
    }
   ],
   "source": [
    "df['HourSpendOnApp'].describe()"
   ]
  },
  {
   "cell_type": "code",
   "execution_count": 182,
   "id": "2bc72da1",
   "metadata": {
    "scrolled": true
   },
   "outputs": [
    {
     "data": {
      "image/png": "[encoded data removed]",
      "text/plain": [
       "<Figure size 432x288 with 1 Axes>"
      ]
     },
     "metadata": {
      "needs_background": "light"
     },
     "output_type": "display_data"
    }
   ],
   "source": [
    "plt.hist(df['HourSpendOnApp'],bins=5)\n",
    "plt.title('用户使用时间')\n",
    "plt.show()"
   ]
  },
  {
   "cell_type": "code",
   "execution_count": 193,
   "id": "d8f3c607",
   "metadata": {},
   "outputs": [
    {
     "data": {
      "text/plain": [
       "count    5058.000000\n",
       "mean        2.713721\n",
       "std         2.535392\n",
       "min         1.000000\n",
       "25%         1.000000\n",
       "50%         2.000000\n",
       "75%         3.000000\n",
       "max        16.000000\n",
       "Name: OrderCount, dtype: float64"
      ]
     },
     "execution_count": 193,
     "metadata": {},
     "output_type": "execute_result"
    }
   ],
   "source": [
    "df['OrderCount'].describe()"
   ]
  },
  {
   "cell_type": "code",
   "execution_count": 192,
   "id": "2ae97bcd",
   "metadata": {},
   "outputs": [
    {
     "data": {
      "image/png": "[encoded data removed]",
      "text/plain": [
       "<Figure size 432x288 with 1 Axes>"
      ]
     },
     "metadata": {
      "needs_background": "light"
     },
     "output_type": "display_data"
    }
   ],
   "source": [
    "plt.hist(df['OrderCount'],bins=10)\n",
    "plt.show()"
   ]
  },
  {
   "cell_type": "code",
   "execution_count": 194,
   "id": "fc4fad3e",
   "metadata": {},
   "outputs": [
    {
     "data": {
      "text/plain": [
       "{'whiskers': [<matplotlib.lines.Line2D at 0x1d2bdafd4c0>,\n",
       "  <matplotlib.lines.Line2D at 0x1d2bf2c2c10>],\n",
       " 'caps': [<matplotlib.lines.Line2D at 0x1d2bf2c2f40>,\n",
       "  <matplotlib.lines.Line2D at 0x1d2bf2c20d0>],\n",
       " 'boxes': [<matplotlib.lines.Line2D at 0x1d2bdafd0a0>],\n",
       " 'medians': [<matplotlib.lines.Line2D at 0x1d2bf2c2220>],\n",
       " 'fliers': [<matplotlib.lines.Line2D at 0x1d2bdb17100>],\n",
       " 'means': []}"
      ]
     },
     "execution_count": 194,
     "metadata": {},
     "output_type": "execute_result"
    },
    {
     "data": {
      "image/png": "[encoded data removed]",
      "text/plain": [
       "<Figure size 432x288 with 1 Axes>"
      ]
     },
     "metadata": {
      "needs_background": "light"
     },
     "output_type": "display_data"
    }
   ],
   "source": [
    "plt.boxplot(df['OrderCount'])"
   ]
  },
  {
   "cell_type": "code",
   "execution_count": 196,
   "id": "a4b01d13",
   "metadata": {},
   "outputs": [
    {
     "data": {
      "text/plain": [
       "count    5058.000000\n",
       "mean       15.679320\n",
       "std         3.665623\n",
       "min        11.000000\n",
       "25%        13.000000\n",
       "50%        15.000000\n",
       "75%        18.000000\n",
       "max        26.000000\n",
       "Name: OrderAmountHikeFromlastYear, dtype: float64"
      ]
     },
     "execution_count": 196,
     "metadata": {},
     "output_type": "execute_result"
    }
   ],
   "source": [
    "df['OrderAmountHikeFromlastYear'].describe()"
   ]
  },
  {
   "cell_type": "code",
   "execution_count": 197,
   "id": "8056dded",
   "metadata": {},
   "outputs": [
    {
     "data": {
      "text/plain": [
       "count    5058.000000\n",
       "mean        4.400751\n",
       "std         3.558674\n",
       "min         0.000000\n",
       "25%         2.000000\n",
       "50%         3.000000\n",
       "75%         7.000000\n",
       "max        46.000000\n",
       "Name: DaySinceLastOrder, dtype: float64"
      ]
     },
     "execution_count": 197,
     "metadata": {},
     "output_type": "execute_result"
    }
   ],
   "source": [
    "df['DaySinceLastOrder'].describe()"
   ]
  },
  {
   "cell_type": "code",
   "execution_count": 202,
   "id": "730bc565",
   "metadata": {},
   "outputs": [
    {
     "data": {
      "image/png": "[encoded data removed]",
      "text/plain": [
       "<Figure size 432x288 with 1 Axes>"
      ]
     },
     "metadata": {
      "needs_background": "light"
     },
     "output_type": "display_data"
    }
   ],
   "source": [
    "pre=df['PreferedOrderCat'].value_counts()\n",
    "plt.bar(pre.index,pre.values)\n",
    "plt.title('客户喜欢类别')\n",
    "plt.show()"
   ]
  },
  {
   "cell_type": "code",
   "execution_count": null,
   "id": "ef939eaf",
   "metadata": {},
   "outputs": [],
   "source": [
    "#相关分析\n",
    "#客户流失分析"
   ]
  },
  {
   "cell_type": "code",
   "execution_count": 203,
   "id": "da1f645d",
   "metadata": {},
   "outputs": [
    {
     "data": {
      "text/html": [
       "<div>\n",
       "<style scoped>\n",
       "    .dataframe tbody tr th:only-of-type {\n",
       "        vertical-align: middle;\n",
       "    }\n",
       "\n",
       "    .dataframe tbody tr th {\n",
       "        vertical-align: top;\n",
       "    }\n",
       "\n",
       "    .dataframe thead th {\n",
       "        text-align: right;\n",
       "    }\n",
       "</style>\n",
       "<table border=\"1\" class=\"dataframe\">\n",
       "  <thead>\n",
       "    <tr style=\"text-align: right;\">\n",
       "      <th></th>\n",
       "      <th>CustomerID</th>\n",
       "      <th>Churn</th>\n",
       "      <th>Tenure</th>\n",
       "      <th>PreferredLoginDevice</th>\n",
       "      <th>CityTier</th>\n",
       "      <th>WarehouseToHome</th>\n",
       "      <th>MaritalStatus</th>\n",
       "      <th>AgeGroup</th>\n",
       "      <th>Gender</th>\n",
       "      <th>HourSpendOnApp</th>\n",
       "      <th>OrderCount</th>\n",
       "      <th>OrderAmountHikeFromlastYear</th>\n",
       "      <th>DaySinceLastOrder</th>\n",
       "      <th>PreferedOrderCat</th>\n",
       "      <th>NumberOfStreamerFollowed</th>\n",
       "      <th>SatisfactionScore</th>\n",
       "      <th>Complain</th>\n",
       "      <th>CouponUsed</th>\n",
       "      <th>DiscountAmount</th>\n",
       "    </tr>\n",
       "  </thead>\n",
       "  <tbody>\n",
       "    <tr>\n",
       "      <th>0</th>\n",
       "      <td>50001</td>\n",
       "      <td>1</td>\n",
       "      <td>4.0</td>\n",
       "      <td>Mobile Phone</td>\n",
       "      <td>3</td>\n",
       "      <td>6.0</td>\n",
       "      <td>Single</td>\n",
       "      <td>3</td>\n",
       "      <td>Female</td>\n",
       "      <td>3.0</td>\n",
       "      <td>1.0</td>\n",
       "      <td>11.0</td>\n",
       "      <td>5.0</td>\n",
       "      <td>Laptop &amp; Accessory</td>\n",
       "      <td>9</td>\n",
       "      <td>2</td>\n",
       "      <td>1</td>\n",
       "      <td>1.0</td>\n",
       "      <td>160</td>\n",
       "    </tr>\n",
       "    <tr>\n",
       "      <th>1</th>\n",
       "      <td>50002</td>\n",
       "      <td>1</td>\n",
       "      <td>9.0</td>\n",
       "      <td>Phone</td>\n",
       "      <td>1</td>\n",
       "      <td>8.0</td>\n",
       "      <td>Single</td>\n",
       "      <td>4</td>\n",
       "      <td>Male</td>\n",
       "      <td>3.0</td>\n",
       "      <td>1.0</td>\n",
       "      <td>15.0</td>\n",
       "      <td>0.0</td>\n",
       "      <td>Household</td>\n",
       "      <td>7</td>\n",
       "      <td>3</td>\n",
       "      <td>1</td>\n",
       "      <td>0.0</td>\n",
       "      <td>121</td>\n",
       "    </tr>\n",
       "    <tr>\n",
       "      <th>2</th>\n",
       "      <td>50003</td>\n",
       "      <td>1</td>\n",
       "      <td>9.0</td>\n",
       "      <td>Phone</td>\n",
       "      <td>1</td>\n",
       "      <td>30.0</td>\n",
       "      <td>Single</td>\n",
       "      <td>4</td>\n",
       "      <td>Male</td>\n",
       "      <td>2.0</td>\n",
       "      <td>1.0</td>\n",
       "      <td>14.0</td>\n",
       "      <td>3.0</td>\n",
       "      <td>Household</td>\n",
       "      <td>6</td>\n",
       "      <td>3</td>\n",
       "      <td>1</td>\n",
       "      <td>0.0</td>\n",
       "      <td>120</td>\n",
       "    </tr>\n",
       "    <tr>\n",
       "      <th>3</th>\n",
       "      <td>50004</td>\n",
       "      <td>1</td>\n",
       "      <td>3.0</td>\n",
       "      <td>Phone</td>\n",
       "      <td>3</td>\n",
       "      <td>15.0</td>\n",
       "      <td>Single</td>\n",
       "      <td>4</td>\n",
       "      <td>Male</td>\n",
       "      <td>2.0</td>\n",
       "      <td>1.0</td>\n",
       "      <td>23.0</td>\n",
       "      <td>3.0</td>\n",
       "      <td>Laptop &amp; Accessory</td>\n",
       "      <td>8</td>\n",
       "      <td>5</td>\n",
       "      <td>0</td>\n",
       "      <td>0.0</td>\n",
       "      <td>134</td>\n",
       "    </tr>\n",
       "    <tr>\n",
       "      <th>4</th>\n",
       "      <td>50005</td>\n",
       "      <td>1</td>\n",
       "      <td>3.0</td>\n",
       "      <td>Phone</td>\n",
       "      <td>1</td>\n",
       "      <td>12.0</td>\n",
       "      <td>Single</td>\n",
       "      <td>3</td>\n",
       "      <td>Male</td>\n",
       "      <td>3.0</td>\n",
       "      <td>1.0</td>\n",
       "      <td>11.0</td>\n",
       "      <td>3.0</td>\n",
       "      <td>Household</td>\n",
       "      <td>3</td>\n",
       "      <td>5</td>\n",
       "      <td>0</td>\n",
       "      <td>1.0</td>\n",
       "      <td>130</td>\n",
       "    </tr>\n",
       "    <tr>\n",
       "      <th>...</th>\n",
       "      <td>...</td>\n",
       "      <td>...</td>\n",
       "      <td>...</td>\n",
       "      <td>...</td>\n",
       "      <td>...</td>\n",
       "      <td>...</td>\n",
       "      <td>...</td>\n",
       "      <td>...</td>\n",
       "      <td>...</td>\n",
       "      <td>...</td>\n",
       "      <td>...</td>\n",
       "      <td>...</td>\n",
       "      <td>...</td>\n",
       "      <td>...</td>\n",
       "      <td>...</td>\n",
       "      <td>...</td>\n",
       "      <td>...</td>\n",
       "      <td>...</td>\n",
       "      <td>...</td>\n",
       "    </tr>\n",
       "    <tr>\n",
       "      <th>5624</th>\n",
       "      <td>55625</td>\n",
       "      <td>0</td>\n",
       "      <td>1.0</td>\n",
       "      <td>Mobile Phone</td>\n",
       "      <td>3</td>\n",
       "      <td>12.0</td>\n",
       "      <td>Single</td>\n",
       "      <td>5</td>\n",
       "      <td>Female</td>\n",
       "      <td>2.0</td>\n",
       "      <td>2.0</td>\n",
       "      <td>19.0</td>\n",
       "      <td>1.0</td>\n",
       "      <td>Mobile Phone</td>\n",
       "      <td>2</td>\n",
       "      <td>3</td>\n",
       "      <td>0</td>\n",
       "      <td>2.0</td>\n",
       "      <td>155</td>\n",
       "    </tr>\n",
       "    <tr>\n",
       "      <th>5625</th>\n",
       "      <td>55626</td>\n",
       "      <td>0</td>\n",
       "      <td>13.0</td>\n",
       "      <td>Pad</td>\n",
       "      <td>1</td>\n",
       "      <td>30.0</td>\n",
       "      <td>Married</td>\n",
       "      <td>2</td>\n",
       "      <td>Male</td>\n",
       "      <td>3.0</td>\n",
       "      <td>2.0</td>\n",
       "      <td>18.0</td>\n",
       "      <td>4.0</td>\n",
       "      <td>Laptop &amp; Accessory</td>\n",
       "      <td>6</td>\n",
       "      <td>1</td>\n",
       "      <td>0</td>\n",
       "      <td>1.0</td>\n",
       "      <td>151</td>\n",
       "    </tr>\n",
       "    <tr>\n",
       "      <th>5627</th>\n",
       "      <td>55628</td>\n",
       "      <td>0</td>\n",
       "      <td>1.0</td>\n",
       "      <td>Mobile Phone</td>\n",
       "      <td>1</td>\n",
       "      <td>11.0</td>\n",
       "      <td>Married</td>\n",
       "      <td>2</td>\n",
       "      <td>Male</td>\n",
       "      <td>3.0</td>\n",
       "      <td>2.0</td>\n",
       "      <td>21.0</td>\n",
       "      <td>4.0</td>\n",
       "      <td>Laptop &amp; Accessory</td>\n",
       "      <td>3</td>\n",
       "      <td>4</td>\n",
       "      <td>1</td>\n",
       "      <td>1.0</td>\n",
       "      <td>186</td>\n",
       "    </tr>\n",
       "    <tr>\n",
       "      <th>5628</th>\n",
       "      <td>55629</td>\n",
       "      <td>0</td>\n",
       "      <td>23.0</td>\n",
       "      <td>Pad</td>\n",
       "      <td>3</td>\n",
       "      <td>9.0</td>\n",
       "      <td>Married</td>\n",
       "      <td>5</td>\n",
       "      <td>Male</td>\n",
       "      <td>4.0</td>\n",
       "      <td>2.0</td>\n",
       "      <td>15.0</td>\n",
       "      <td>9.0</td>\n",
       "      <td>Laptop &amp; Accessory</td>\n",
       "      <td>4</td>\n",
       "      <td>4</td>\n",
       "      <td>0</td>\n",
       "      <td>2.0</td>\n",
       "      <td>179</td>\n",
       "    </tr>\n",
       "    <tr>\n",
       "      <th>5629</th>\n",
       "      <td>55630</td>\n",
       "      <td>0</td>\n",
       "      <td>8.0</td>\n",
       "      <td>Mobile Phone</td>\n",
       "      <td>1</td>\n",
       "      <td>15.0</td>\n",
       "      <td>Married</td>\n",
       "      <td>2</td>\n",
       "      <td>Male</td>\n",
       "      <td>3.0</td>\n",
       "      <td>2.0</td>\n",
       "      <td>13.0</td>\n",
       "      <td>3.0</td>\n",
       "      <td>Laptop &amp; Accessory</td>\n",
       "      <td>4</td>\n",
       "      <td>3</td>\n",
       "      <td>0</td>\n",
       "      <td>2.0</td>\n",
       "      <td>169</td>\n",
       "    </tr>\n",
       "  </tbody>\n",
       "</table>\n",
       "<p>5058 rows × 19 columns</p>\n",
       "</div>"
      ],
      "text/plain": [
       "      CustomerID  Churn  Tenure PreferredLoginDevice  CityTier  \\\n",
       "0          50001      1     4.0         Mobile Phone         3   \n",
       "1          50002      1     9.0                Phone         1   \n",
       "2          50003      1     9.0                Phone         1   \n",
       "3          50004      1     3.0                Phone         3   \n",
       "4          50005      1     3.0                Phone         1   \n",
       "...          ...    ...     ...                  ...       ...   \n",
       "5624       55625      0     1.0         Mobile Phone         3   \n",
       "5625       55626      0    13.0                  Pad         1   \n",
       "5627       55628      0     1.0         Mobile Phone         1   \n",
       "5628       55629      0    23.0                  Pad         3   \n",
       "5629       55630      0     8.0         Mobile Phone         1   \n",
       "\n",
       "      WarehouseToHome MaritalStatus  AgeGroup  Gender  HourSpendOnApp  \\\n",
       "0                 6.0        Single         3  Female             3.0   \n",
       "1                 8.0        Single         4    Male             3.0   \n",
       "2                30.0        Single         4    Male             2.0   \n",
       "3                15.0        Single         4    Male             2.0   \n",
       "4                12.0        Single         3    Male             3.0   \n",
       "...               ...           ...       ...     ...             ...   \n",
       "5624             12.0        Single         5  Female             2.0   \n",
       "5625             30.0       Married         2    Male             3.0   \n",
       "5627             11.0       Married         2    Male             3.0   \n",
       "5628              9.0       Married         5    Male             4.0   \n",
       "5629             15.0       Married         2    Male             3.0   \n",
       "\n",
       "      OrderCount  OrderAmountHikeFromlastYear  DaySinceLastOrder  \\\n",
       "0            1.0                         11.0                5.0   \n",
       "1            1.0                         15.0                0.0   \n",
       "2            1.0                         14.0                3.0   \n",
       "3            1.0                         23.0                3.0   \n",
       "4            1.0                         11.0                3.0   \n",
       "...          ...                          ...                ...   \n",
       "5624         2.0                         19.0                1.0   \n",
       "5625         2.0                         18.0                4.0   \n",
       "5627         2.0                         21.0                4.0   \n",
       "5628         2.0                         15.0                9.0   \n",
       "5629         2.0                         13.0                3.0   \n",
       "\n",
       "        PreferedOrderCat  NumberOfStreamerFollowed  SatisfactionScore  \\\n",
       "0     Laptop & Accessory                         9                  2   \n",
       "1              Household                         7                  3   \n",
       "2              Household                         6                  3   \n",
       "3     Laptop & Accessory                         8                  5   \n",
       "4              Household                         3                  5   \n",
       "...                  ...                       ...                ...   \n",
       "5624        Mobile Phone                         2                  3   \n",
       "5625  Laptop & Accessory                         6                  1   \n",
       "5627  Laptop & Accessory                         3                  4   \n",
       "5628  Laptop & Accessory                         4                  4   \n",
       "5629  Laptop & Accessory                         4                  3   \n",
       "\n",
       "      Complain  CouponUsed  DiscountAmount  \n",
       "0            1         1.0             160  \n",
       "1            1         0.0             121  \n",
       "2            1         0.0             120  \n",
       "3            0         0.0             134  \n",
       "4            0         1.0             130  \n",
       "...        ...         ...             ...  \n",
       "5624         0         2.0             155  \n",
       "5625         0         1.0             151  \n",
       "5627         1         1.0             186  \n",
       "5628         0         2.0             179  \n",
       "5629         0         2.0             169  \n",
       "\n",
       "[5058 rows x 19 columns]"
      ]
     },
     "execution_count": 203,
     "metadata": {},
     "output_type": "execute_result"
    }
   ],
   "source": [
    "df"
   ]
  },
  {
   "cell_type": "code",
   "execution_count": 220,
   "id": "b8a4c8e1",
   "metadata": {},
   "outputs": [],
   "source": [
    "data = df[['Churn', 'CityTier']]\n",
    "churn_by_citytier=data.groupby('CityTier')['Churn'].mean()"
   ]
  },
  {
   "cell_type": "code",
   "execution_count": 222,
   "id": "b3e90c18",
   "metadata": {},
   "outputs": [
    {
     "data": {
      "image/png": "[encoded data removed]",
      "text/plain": [
       "<Figure size 432x288 with 1 Axes>"
      ]
     },
     "metadata": {
      "needs_background": "light"
     },
     "output_type": "display_data"
    }
   ],
   "source": [
    "churn_by_citytier.plot(kind='bar')\n",
    "plt.title('不同城市流出率')\n",
    "plt.xlabel('City Tier')\n",
    "plt.ylabel('Churn Rate')\n",
    "plt.show()"
   ]
  },
  {
   "cell_type": "code",
   "execution_count": null,
   "id": "cdf54b73",
   "metadata": {},
   "outputs": [],
   "source": [
    "#城市等级与用户流出 卡方检验"
   ]
  },
  {
   "cell_type": "code",
   "execution_count": 227,
   "id": "e9ff7445",
   "metadata": {},
   "outputs": [
    {
     "name": "stdout",
     "output_type": "stream",
     "text": [
      "Chi-square statistic: 31.688791050753245\n",
      "P-value: 1.314820462094176e-07\n",
      "Degrees of freedom: 2\n",
      "Expected frequencies: [[2734.9462238   175.11585607 1267.93792013]\n",
      " [ 576.0537762    36.88414393  267.06207987]]\n"
     ]
    }
   ],
   "source": [
    "contingency_table = pd.crosstab(df['Churn'], df['CityTier'])    \n",
    "\n",
    "\n",
    "from scipy.stats import chi2_contingency\n",
    "\n",
    "# 进行卡方检验\n",
    "chi2_stat, p_val, dof, expected = chi2_contingency(contingency_table)\n",
    "\n",
    "# 输出结果\n",
    "print(\"Chi-square statistic:\", chi2_stat)\n",
    "print(\"P-value:\", p_val)\n",
    "print(\"Degrees of freedom:\", dof)\n",
    "print(\"Expected frequencies:\", expected)"
   ]
  },
  {
   "cell_type": "code",
   "execution_count": null,
   "id": "704e7c9e",
   "metadata": {},
   "outputs": [],
   "source": [
    "#根据卡方检验的结果，我们可以拒绝零假设，认为城市等级和流失之间存在显著关联。 p-value < 0.05\n",
    "# 这意味着城市等级可能对顾客流失率产生影响，不同城市等级的顾客可能有不同的流失倾向。"
   ]
  },
  {
   "cell_type": "code",
   "execution_count": null,
   "id": "7e04242b",
   "metadata": {},
   "outputs": [],
   "source": [
    "#平台使用时长(月)和流失率的关系"
   ]
  },
  {
   "cell_type": "code",
   "execution_count": 232,
   "id": "be6bd756",
   "metadata": {},
   "outputs": [
    {
     "data": {
      "image/png": "[encoded data removed]",
      "text/plain": [
       "<Figure size 432x288 with 1 Axes>"
      ]
     },
     "metadata": {
      "needs_background": "light"
     },
     "output_type": "display_data"
    }
   ],
   "source": [
    "churn_rate = df.groupby('Tenure')['Churn'].mean()\n",
    "plt.plot(churn_rate.index,churn_rate.values)\n",
    "plt.show()"
   ]
  },
  {
   "cell_type": "code",
   "execution_count": 234,
   "id": "874ff80e",
   "metadata": {},
   "outputs": [
    {
     "name": "stdout",
     "output_type": "stream",
     "text": [
      "Pearson correlation: -0.31402972432962534\n",
      "p-value: 3.681064996471184e-116\n"
     ]
    }
   ],
   "source": [
    "from scipy.stats import pearsonr\n",
    "# 计算Pearson相关系数和p-value\n",
    "correlation, p_value = pearsonr(df['Tenure'], df['Churn'])\n",
    "\n",
    "# 打印结果\n",
    "print('Pearson correlation:', correlation)\n",
    "print('p-value:', p_value)"
   ]
  },
  {
   "cell_type": "code",
   "execution_count": null,
   "id": "7847cf07",
   "metadata": {},
   "outputs": [],
   "source": [
    "# Pearson相关系数：-0.314\n",
    "# 相关系数为负数，表示用户使用时间（Tenure）和流失标志（Churn）之间存在负相关关系。\n",
    "# 相关系数的绝对值为0.314，接近于0.3，表示两者之间具有一定的相关性，但不是非常强烈。\n",
    "# p-value：3.681e-116（非常接近于0）\n",
    "# p-value非常小，小于通常的显著性水平（0.05）。\n",
    "# 这意味着在零假设下，观察到的相关性极其不可能发生。\n",
    "# 可以拒绝零假设，即用户使用时间和流失之间的关系具有统计显著性。\n",
    "# 综合以上结果，可以得出结论：用户使用时间（Tenure）和流失标志（Churn）之间存在负相关关系，\n",
    "# 并且这种关系在统计上是显著的。然而，由于相关性并不强烈，还需要进一步考虑其他因素和可能的潜在变量"
   ]
  },
  {
   "cell_type": "code",
   "execution_count": null,
   "id": "f5ff1398",
   "metadata": {},
   "outputs": [],
   "source": [
    "#查看婚姻状况与流出率是否存在关系"
   ]
  },
  {
   "cell_type": "code",
   "execution_count": 238,
   "id": "9e2499ca",
   "metadata": {},
   "outputs": [],
   "source": [
    "df['MaritalStatus'].replace({'Single':0,'Married':1,'Divorced':2},inplace=True)"
   ]
  },
  {
   "cell_type": "code",
   "execution_count": 244,
   "id": "00d36711",
   "metadata": {},
   "outputs": [
    {
     "data": {
      "text/plain": [
       "MaritalStatus\n",
       "0    0.274818\n",
       "1    0.118134\n",
       "2    0.149733\n",
       "Name: Churn, dtype: float64"
      ]
     },
     "execution_count": 244,
     "metadata": {},
     "output_type": "execute_result"
    }
   ],
   "source": [
    "churn_rate = df.groupby('MaritalStatus')['Churn'].mean()\n",
    "churn_rate"
   ]
  },
  {
   "cell_type": "code",
   "execution_count": 247,
   "id": "7554b184",
   "metadata": {},
   "outputs": [
    {
     "name": "stdout",
     "output_type": "stream",
     "text": [
      "Chi-square statistic: 177.63057376666825\n",
      "P-value: 2.679236171951388e-39\n",
      "Degrees of freedom: 2\n",
      "Expected frequencies: [[1364.58204824 2195.55634638  617.86160538]\n",
      " [ 287.41795176  462.44365362  130.13839462]]\n"
     ]
    }
   ],
   "source": [
    "contingency_table = pd.crosstab(df['Churn'], df['MaritalStatus']) \n",
    "# 进行卡方检验\n",
    "chi2_stat, p_val, dof, expected = chi2_contingency(contingency_table)\n",
    "\n",
    "# 输出结果\n",
    "print(\"Chi-square statistic:\", chi2_stat)\n",
    "print(\"P-value:\", p_val)\n",
    "print(\"Degrees of freedom:\", dof)\n",
    "print(\"Expected frequencies:\", expected)"
   ]
  },
  {
   "cell_type": "code",
   "execution_count": null,
   "id": "e6cd5a08",
   "metadata": {},
   "outputs": [],
   "source": [
    "# 卡方检验的结果表明，基于给定的列联表数据，\"MaritalStatus\"和\"Churn\"之间存在显著的相关性。\n",
    "# P值非常小（小于显著性水平0.05），因此我们可以拒绝原假设，即两个变量之间不存在相关性。"
   ]
  },
  {
   "cell_type": "code",
   "execution_count": null,
   "id": "62a0e027",
   "metadata": {},
   "outputs": [],
   "source": [
    "#查看性别与流失量的关系"
   ]
  },
  {
   "cell_type": "code",
   "execution_count": 38,
   "id": "4bf542b5",
   "metadata": {},
   "outputs": [
    {
     "data": {
      "text/plain": [
       "Gender\n",
       "Female    0.159961\n",
       "Male      0.183444\n",
       "Name: Churn, dtype: float64"
      ]
     },
     "execution_count": 38,
     "metadata": {},
     "output_type": "execute_result"
    }
   ],
   "source": [
    "churn_rate = df.groupby('Gender')['Churn'].mean()\n",
    "churn_rate"
   ]
  },
  {
   "cell_type": "code",
   "execution_count": 32,
   "id": "d7113d2f",
   "metadata": {},
   "outputs": [],
   "source": [
    "contingency_table= pd.crosstab(df['Churn'], df['Gender']) "
   ]
  },
  {
   "cell_type": "code",
   "execution_count": 36,
   "id": "bb1432eb",
   "metadata": {},
   "outputs": [
    {
     "name": "stdout",
     "output_type": "stream",
     "text": [
      "Chi-square statistic: 4.507249857079509\n",
      "P-value: 0.033751466763572005\n",
      "Degrees of freedom: 1\n",
      "Expected frequencies: [[1683.4250692 2494.5749308]\n",
      " [ 354.5749308  525.4250692]]\n"
     ]
    }
   ],
   "source": [
    "from scipy.stats import chi2_contingency\n",
    "chi2_stat, p_val, dof, expected = chi2_contingency(contingency_table)\n",
    "\n",
    "# 输出结果\n",
    "print(\"Chi-square statistic:\", chi2_stat)\n",
    "print(\"P-value:\", p_val)\n",
    "print(\"Degrees of freedom:\", dof)\n",
    "print(\"Expected frequencies:\", expected)"
   ]
  },
  {
   "cell_type": "code",
   "execution_count": null,
   "id": "f4a7def7",
   "metadata": {},
   "outputs": [],
   "source": [
    "#查看年龄段与流失量之间的关系"
   ]
  },
  {
   "cell_type": "code",
   "execution_count": 39,
   "id": "67e2eb40",
   "metadata": {},
   "outputs": [
    {
     "data": {
      "text/plain": [
       "AgeGroup\n",
       "1    0.096491\n",
       "2    0.101167\n",
       "3    0.151365\n",
       "4    0.175591\n",
       "5    0.230563\n",
       "6    0.366197\n",
       "Name: Churn, dtype: float64"
      ]
     },
     "execution_count": 39,
     "metadata": {},
     "output_type": "execute_result"
    }
   ],
   "source": [
    "churn_rate = df.groupby('AgeGroup')['Churn'].mean()\n",
    "churn_rate"
   ]
  },
  {
   "cell_type": "code",
   "execution_count": 43,
   "id": "e53cd8ff",
   "metadata": {},
   "outputs": [
    {
     "data": {
      "image/png": "[encoded data removed]",
      "text/plain": [
       "<Figure size 432x288 with 1 Axes>"
      ]
     },
     "metadata": {
      "needs_background": "light"
     },
     "output_type": "display_data"
    }
   ],
   "source": [
    "plt.plot(churn_rate.index,churn_rate.values)\n",
    "plt.title('用户年龄段和流失率的关系')\n",
    "plt.xlabel('年龄段')\n",
    "plt.ylabel('流失率')\n",
    "plt.show()"
   ]
  },
  {
   "cell_type": "code",
   "execution_count": 44,
   "id": "05b50d86",
   "metadata": {},
   "outputs": [
    {
     "name": "stdout",
     "output_type": "stream",
     "text": [
      "Chi-square statistic: 77.90820496346755\n",
      "P-value: 2.29749887047233e-15\n",
      "Degrees of freedom: 5\n",
      "Expected frequencies: [[ 188.33214709  212.28667457 1331.54132068 1712.33570581  616.209569\n",
      "   117.29458284]\n",
      " [  39.66785291   44.71332543  280.45867932  360.66429419  129.790431\n",
      "    24.70541716]]\n"
     ]
    }
   ],
   "source": [
    "contingency_table= pd.crosstab(df['Churn'], df['AgeGroup']) \n",
    "chi2_stat, p_val, dof, expected = chi2_contingency(contingency_table)\n",
    "\n",
    "# 输出结果\n",
    "print(\"Chi-square statistic:\", chi2_stat)\n",
    "print(\"P-value:\", p_val)\n",
    "print(\"Degrees of freedom:\", dof)\n",
    "print(\"Expected frequencies:\", expected)"
   ]
  },
  {
   "cell_type": "code",
   "execution_count": null,
   "id": "2739cc70",
   "metadata": {},
   "outputs": [],
   "source": [
    "#查看流失率是否与仓库距离有关系"
   ]
  },
  {
   "cell_type": "code",
   "execution_count": 60,
   "id": "ec15363d",
   "metadata": {},
   "outputs": [
    {
     "data": {
      "text/html": [
       "<div>\n",
       "<style scoped>\n",
       "    .dataframe tbody tr th:only-of-type {\n",
       "        vertical-align: middle;\n",
       "    }\n",
       "\n",
       "    .dataframe tbody tr th {\n",
       "        vertical-align: top;\n",
       "    }\n",
       "\n",
       "    .dataframe thead th {\n",
       "        text-align: right;\n",
       "    }\n",
       "</style>\n",
       "<table border=\"1\" class=\"dataframe\">\n",
       "  <thead>\n",
       "    <tr style=\"text-align: right;\">\n",
       "      <th></th>\n",
       "      <th>CustomerID</th>\n",
       "      <th>Churn</th>\n",
       "      <th>Tenure</th>\n",
       "      <th>PreferredLoginDevice</th>\n",
       "      <th>CityTier</th>\n",
       "      <th>WarehouseToHome</th>\n",
       "      <th>MaritalStatus</th>\n",
       "      <th>AgeGroup</th>\n",
       "      <th>Gender</th>\n",
       "      <th>HourSpendOnApp</th>\n",
       "      <th>OrderCount</th>\n",
       "      <th>OrderAmountHikeFromlastYear</th>\n",
       "      <th>DaySinceLastOrder</th>\n",
       "      <th>PreferedOrderCat</th>\n",
       "      <th>NumberOfStreamerFollowed</th>\n",
       "      <th>SatisfactionScore</th>\n",
       "      <th>Complain</th>\n",
       "      <th>CouponUsed</th>\n",
       "      <th>DiscountAmount</th>\n",
       "      <th>WarehouseToHome_Group</th>\n",
       "    </tr>\n",
       "  </thead>\n",
       "  <tbody>\n",
       "    <tr>\n",
       "      <th>0</th>\n",
       "      <td>50001</td>\n",
       "      <td>1</td>\n",
       "      <td>4.0</td>\n",
       "      <td>Mobile Phone</td>\n",
       "      <td>3</td>\n",
       "      <td>6.0</td>\n",
       "      <td>Single</td>\n",
       "      <td>3</td>\n",
       "      <td>Female</td>\n",
       "      <td>3.0</td>\n",
       "      <td>1.0</td>\n",
       "      <td>11.0</td>\n",
       "      <td>5.0</td>\n",
       "      <td>Laptop &amp; Accessory</td>\n",
       "      <td>9</td>\n",
       "      <td>2</td>\n",
       "      <td>1</td>\n",
       "      <td>1.0</td>\n",
       "      <td>160</td>\n",
       "      <td>近距离</td>\n",
       "    </tr>\n",
       "    <tr>\n",
       "      <th>1</th>\n",
       "      <td>50002</td>\n",
       "      <td>1</td>\n",
       "      <td>9.0</td>\n",
       "      <td>Phone</td>\n",
       "      <td>1</td>\n",
       "      <td>8.0</td>\n",
       "      <td>Single</td>\n",
       "      <td>4</td>\n",
       "      <td>Male</td>\n",
       "      <td>3.0</td>\n",
       "      <td>1.0</td>\n",
       "      <td>15.0</td>\n",
       "      <td>0.0</td>\n",
       "      <td>Household</td>\n",
       "      <td>7</td>\n",
       "      <td>3</td>\n",
       "      <td>1</td>\n",
       "      <td>0.0</td>\n",
       "      <td>121</td>\n",
       "      <td>近距离</td>\n",
       "    </tr>\n",
       "    <tr>\n",
       "      <th>2</th>\n",
       "      <td>50003</td>\n",
       "      <td>1</td>\n",
       "      <td>9.0</td>\n",
       "      <td>Phone</td>\n",
       "      <td>1</td>\n",
       "      <td>30.0</td>\n",
       "      <td>Single</td>\n",
       "      <td>4</td>\n",
       "      <td>Male</td>\n",
       "      <td>2.0</td>\n",
       "      <td>1.0</td>\n",
       "      <td>14.0</td>\n",
       "      <td>3.0</td>\n",
       "      <td>Household</td>\n",
       "      <td>6</td>\n",
       "      <td>3</td>\n",
       "      <td>1</td>\n",
       "      <td>0.0</td>\n",
       "      <td>120</td>\n",
       "      <td>远距离</td>\n",
       "    </tr>\n",
       "    <tr>\n",
       "      <th>3</th>\n",
       "      <td>50004</td>\n",
       "      <td>1</td>\n",
       "      <td>3.0</td>\n",
       "      <td>Phone</td>\n",
       "      <td>3</td>\n",
       "      <td>15.0</td>\n",
       "      <td>Single</td>\n",
       "      <td>4</td>\n",
       "      <td>Male</td>\n",
       "      <td>2.0</td>\n",
       "      <td>1.0</td>\n",
       "      <td>23.0</td>\n",
       "      <td>3.0</td>\n",
       "      <td>Laptop &amp; Accessory</td>\n",
       "      <td>8</td>\n",
       "      <td>5</td>\n",
       "      <td>0</td>\n",
       "      <td>0.0</td>\n",
       "      <td>134</td>\n",
       "      <td>正常距离</td>\n",
       "    </tr>\n",
       "    <tr>\n",
       "      <th>4</th>\n",
       "      <td>50005</td>\n",
       "      <td>1</td>\n",
       "      <td>3.0</td>\n",
       "      <td>Phone</td>\n",
       "      <td>1</td>\n",
       "      <td>12.0</td>\n",
       "      <td>Single</td>\n",
       "      <td>3</td>\n",
       "      <td>Male</td>\n",
       "      <td>3.0</td>\n",
       "      <td>1.0</td>\n",
       "      <td>11.0</td>\n",
       "      <td>3.0</td>\n",
       "      <td>Household</td>\n",
       "      <td>3</td>\n",
       "      <td>5</td>\n",
       "      <td>0</td>\n",
       "      <td>1.0</td>\n",
       "      <td>130</td>\n",
       "      <td>一般距离</td>\n",
       "    </tr>\n",
       "  </tbody>\n",
       "</table>\n",
       "</div>"
      ],
      "text/plain": [
       "   CustomerID  Churn  Tenure PreferredLoginDevice  CityTier  WarehouseToHome  \\\n",
       "0       50001      1     4.0         Mobile Phone         3              6.0   \n",
       "1       50002      1     9.0                Phone         1              8.0   \n",
       "2       50003      1     9.0                Phone         1             30.0   \n",
       "3       50004      1     3.0                Phone         3             15.0   \n",
       "4       50005      1     3.0                Phone         1             12.0   \n",
       "\n",
       "  MaritalStatus  AgeGroup  Gender  HourSpendOnApp  OrderCount  \\\n",
       "0        Single         3  Female             3.0         1.0   \n",
       "1        Single         4    Male             3.0         1.0   \n",
       "2        Single         4    Male             2.0         1.0   \n",
       "3        Single         4    Male             2.0         1.0   \n",
       "4        Single         3    Male             3.0         1.0   \n",
       "\n",
       "   OrderAmountHikeFromlastYear  DaySinceLastOrder    PreferedOrderCat  \\\n",
       "0                         11.0                5.0  Laptop & Accessory   \n",
       "1                         15.0                0.0           Household   \n",
       "2                         14.0                3.0           Household   \n",
       "3                         23.0                3.0  Laptop & Accessory   \n",
       "4                         11.0                3.0           Household   \n",
       "\n",
       "   NumberOfStreamerFollowed  SatisfactionScore  Complain  CouponUsed  \\\n",
       "0                         9                  2         1         1.0   \n",
       "1                         7                  3         1         0.0   \n",
       "2                         6                  3         1         0.0   \n",
       "3                         8                  5         0         0.0   \n",
       "4                         3                  5         0         1.0   \n",
       "\n",
       "   DiscountAmount WarehouseToHome_Group  \n",
       "0             160                   近距离  \n",
       "1             121                   近距离  \n",
       "2             120                   远距离  \n",
       "3             134                  正常距离  \n",
       "4             130                  一般距离  "
      ]
     },
     "execution_count": 60,
     "metadata": {},
     "output_type": "execute_result"
    }
   ],
   "source": [
    "#对WarehouseToHome进行分组\n",
    "bins = [5, 9, 14, 20, 128]  # 自定义分组区间\n",
    "labels = ['近距离', '一般距离', '正常距离', '远距离']  # 分组标签\n",
    "df['WarehouseToHome_Group'] = pd.cut(df['WarehouseToHome'], bins=bins, labels=labels)"
   ]
  },
  {
   "cell_type": "code",
   "execution_count": 65,
   "id": "cdb698d3",
   "metadata": {},
   "outputs": [
    {
     "data": {
      "text/plain": [
       "Text(0.5, 1.0, '不同距离的流失分析')"
      ]
     },
     "execution_count": 65,
     "metadata": {},
     "output_type": "execute_result"
    },
    {
     "data": {
      "image/png": "[encoded data removed]",
      "text/plain": [
       "<Figure size 432x288 with 1 Axes>"
      ]
     },
     "metadata": {
      "needs_background": "light"
     },
     "output_type": "display_data"
    }
   ],
   "source": [
    "wth=df.groupby('WarehouseToHome_Group')['Churn'].mean()\n",
    "plt.plot(wth.index,wth.values)\n",
    "plt.title('不同距离的流失分析')"
   ]
  },
  {
   "cell_type": "code",
   "execution_count": 59,
   "id": "3fdfebb2",
   "metadata": {},
   "outputs": [
    {
     "data": {
      "text/plain": [
       "count    5058.000000\n",
       "mean       15.611309\n",
       "std         8.375646\n",
       "min         5.000000\n",
       "25%         9.000000\n",
       "50%        14.000000\n",
       "75%        20.000000\n",
       "max       127.000000\n",
       "Name: WarehouseToHome, dtype: float64"
      ]
     },
     "execution_count": 59,
     "metadata": {},
     "output_type": "execute_result"
    }
   ],
   "source": [
    "df['WarehouseToHome'].describe()"
   ]
  },
  {
   "cell_type": "code",
   "execution_count": null,
   "id": "ff44534e",
   "metadata": {},
   "outputs": [],
   "source": [
    "#查看流失率是否和婚姻家庭的关系"
   ]
  },
  {
   "cell_type": "code",
   "execution_count": 67,
   "id": "d90ac431",
   "metadata": {},
   "outputs": [
    {
     "data": {
      "text/plain": [
       "Text(0.5, 1.0, '不同家庭的流失分析')"
      ]
     },
     "execution_count": 67,
     "metadata": {},
     "output_type": "execute_result"
    },
    {
     "data": {
      "image/png": "[encoded data removed]",
      "text/plain": [
       "<Figure size 432x288 with 1 Axes>"
      ]
     },
     "metadata": {
      "needs_background": "light"
     },
     "output_type": "display_data"
    }
   ],
   "source": [
    "ms=df.groupby('MaritalStatus')['Churn'].mean()\n",
    "plt.plot(ms.index,ms.values)\n",
    "plt.title('不同家庭的流失分析')"
   ]
  },
  {
   "cell_type": "code",
   "execution_count": null,
   "id": "bbce1be8",
   "metadata": {},
   "outputs": [],
   "source": [
    "#这里发现单身的流失率远高于其它两类\n",
    "#打算看一下不同年龄段单身人口的流失率"
   ]
  },
  {
   "cell_type": "code",
   "execution_count": 73,
   "id": "cb72baf4",
   "metadata": {},
   "outputs": [
    {
     "data": {
      "text/plain": [
       "Text(0.5, 1.0, '不同单身同志年龄段的流失折现图')"
      ]
     },
     "execution_count": 73,
     "metadata": {},
     "output_type": "execute_result"
    },
    {
     "data": {
      "image/png": "[encoded data removed]",
      "text/plain": [
       "<Figure size 432x288 with 1 Axes>"
      ]
     },
     "metadata": {
      "needs_background": "light"
     },
     "output_type": "display_data"
    }
   ],
   "source": [
    "# 筛选出单身人口的数据\n",
    "single_df = df[df['MaritalStatus'] == 'Single']\n",
    "sa=single_df.groupby('AgeGroup')['Churn'].mean()\n",
    "plt.plot(sa.index,sa.values)\n",
    "plt.title('不同单身同志年龄段的流失折现图')"
   ]
  },
  {
   "cell_type": "code",
   "execution_count": 89,
   "id": "a8313f31",
   "metadata": {},
   "outputs": [
    {
     "data": {
      "image/png": "[encoded data removed]",
      "text/plain": [
       "<Figure size 432x288 with 2 Axes>"
      ]
     },
     "metadata": {
      "needs_background": "light"
     },
     "output_type": "display_data"
    }
   ],
   "source": [
    "import matplotlib.pyplot as plt\n",
    "\n",
    "# 原始数据\n",
    "sa = single_df.groupby('AgeGroup')['Churn'].mean()\n",
    "ma = Married_df.groupby('AgeGroup')['Churn'].mean()\n",
    "da = Divorced_df.groupby('AgeGroup')['Churn'].mean()\n",
    "zz = df.groupby('AgeGroup')['Gender'].count()\n",
    "\n",
    "# 创建图形和第一个y轴\n",
    "fig, ax1 = plt.subplots()\n",
    "\n",
    "# 绘制折线图\n",
    "ax1.plot(sa.index, sa.values, label='Single', marker='o', linestyle='-', linewidth=2)\n",
    "ax1.plot(ma.index, ma.values, label='Married', marker='s', linestyle='--', linewidth=2)\n",
    "ax1.plot(da.index, da.values, label='Divorced', marker='^', linestyle=':', linewidth=2)\n",
    "\n",
    "# 添加标题和轴标签\n",
    "ax1.set_title('不同家庭状况年龄段的流失率折线图')\n",
    "ax1.set_xlabel('年龄段')\n",
    "ax1.set_ylabel('流失率占比')\n",
    "\n",
    "# 设置第一个y轴的网格线\n",
    "ax1.grid(True, linestyle='--', alpha=0.5)\n",
    "\n",
    "# 创建第二个y轴\n",
    "ax2 = ax1.twinx()\n",
    "\n",
    "# 绘制柱状图\n",
    "ax2.bar(zz.index, zz.values, alpha=0.5, color='gray', label='Count')\n",
    "\n",
    "# 添加第二个y轴的标签\n",
    "ax2.set_ylabel('人口数量')\n",
    "\n",
    "# 设置图例样式和位置\n",
    "lines, labels = ax1.get_legend_handles_labels()\n",
    "lines2, labels2 = ax2.get_legend_handles_labels()\n",
    "ax1.legend(lines + lines2, labels + labels2, loc='best')\n",
    "\n",
    "# 调整图形边距\n",
    "plt.tight_layout()\n",
    "\n",
    "# 显示图形\n",
    "plt.show()\n"
   ]
  },
  {
   "cell_type": "code",
   "execution_count": null,
   "id": "360123e2",
   "metadata": {},
   "outputs": [],
   "source": [
    "#从图中可以得到年龄段为3和4为消费的主力军，如何留住他们是关键"
   ]
  },
  {
   "cell_type": "code",
   "execution_count": 113,
   "id": "4d3c3038",
   "metadata": {},
   "outputs": [
    {
     "data": {
      "image/png": "[encoded data removed]",
      "text/plain": [
       "<Figure size 432x288 with 1 Axes>"
      ]
     },
     "metadata": {},
     "output_type": "display_data"
    }
   ],
   "source": [
    "#筛选出年龄为3或4，查看满意度占比\n",
    "sat=df[(df['AgeGroup']==3) | (df['AgeGroup']==4)]\n",
    "\n",
    "# 统计结果\n",
    "result = sat.groupby('SatisfactionScore')['AgeGroup'].count().reset_index(name='counts')\n",
    "\n",
    "# 绘制饼图\n",
    "plt.pie(result['counts'], labels=result['SatisfactionScore'], autopct='%1.1f%%')\n",
    "\n",
    "# 添加标题\n",
    "plt.title('年龄段为3和4的满意度饼图')\n",
    "# 显示图形\n",
    "plt.show()\n"
   ]
  },
  {
   "cell_type": "code",
   "execution_count": null,
   "id": "670919af",
   "metadata": {},
   "outputs": [],
   "source": [
    "#不同城市男女分布及流失率"
   ]
  },
  {
   "cell_type": "code",
   "execution_count": 56,
   "id": "e8eac54d",
   "metadata": {
    "scrolled": true
   },
   "outputs": [
    {
     "data": {
      "image/png": "[encoded data removed]",
      "text/plain": [
       "<Figure size 432x288 with 2 Axes>"
      ]
     },
     "metadata": {
      "needs_background": "light"
     },
     "output_type": "display_data"
    }
   ],
   "source": [
    "import matplotlib.pyplot as plt\n",
    "import numpy as np\n",
    "\n",
    "# 城市等级和性别的用户数量数据\n",
    "user_counts = df.groupby(['CityTier', 'Gender']).size().unstack()\n",
    "\n",
    "# 城市等级和性别的流失率数据\n",
    "churn_rates = df.groupby(['CityTier', 'Gender'])['Churn'].mean().unstack()\n",
    "\n",
    "# 提取城市等级和性别标签\n",
    "city_tiers = user_counts.index\n",
    "genders = user_counts.columns\n",
    "\n",
    "# 创建一个图形对象\n",
    "fig, ax1 = plt.subplots()\n",
    "\n",
    "# 绘制用户数量柱状图\n",
    "x = np.arange(len(city_tiers))\n",
    "width = 0.35\n",
    "ax1.bar(x - width/2, user_counts['Male'], width, label='Male',alpha=0.5)\n",
    "ax1.bar(x + width/2, user_counts['Female'], width, label='Female',alpha=0.5)\n",
    "\n",
    "# 设置第一个Y轴的标签和标题\n",
    "ax1.set_ylabel('User Count')\n",
    "ax1.set_title('User Count and Churn Rate by City Tier and Gender')\n",
    "ax1.set_xticks(x)\n",
    "ax1.set_xticklabels(city_tiers)\n",
    "ax1.legend()\n",
    "\n",
    "# 创建第二个Y轴，用于绘制流失率折线图\n",
    "ax2 = ax1.twinx()\n",
    "\n",
    "# 绘制流失率折线图\n",
    "ax2.plot(x, churn_rates['Male'], marker='o', linestyle='-', label='Churn Rate (Male)')\n",
    "ax2.plot(x, churn_rates['Female'], marker='o', linestyle='-', label='Churn Rate (Female)')\n",
    "\n",
    "# 设置第二个Y轴的标签\n",
    "ax2.set_ylabel('Churn Rate')\n",
    "\n",
    "# 添加图例\n",
    "ax2.legend(loc='upper right')\n",
    "\n",
    "# 调整图形布局\n",
    "fig.tight_layout()\n",
    "\n",
    "# 显示图形\n",
    "plt.show()\n"
   ]
  },
  {
   "cell_type": "code",
   "execution_count": null,
   "id": "227d6269",
   "metadata": {},
   "outputs": [],
   "source": [
    "#"
   ]
  },
  {
   "cell_type": "code",
   "execution_count": null,
   "id": "9dd6046b",
   "metadata": {},
   "outputs": [],
   "source": []
  },
  {
   "cell_type": "code",
   "execution_count": null,
   "id": "ebdc0d1c",
   "metadata": {},
   "outputs": [],
   "source": []
  },
  {
   "cell_type": "code",
   "execution_count": null,
   "id": "504eae81",
   "metadata": {},
   "outputs": [],
   "source": []
  },
  {
   "cell_type": "code",
   "execution_count": null,
   "id": "f8d49283",
   "metadata": {},
   "outputs": [],
   "source": []
  },
  {
   "cell_type": "code",
   "execution_count": null,
   "id": "27932c47",
   "metadata": {},
   "outputs": [],
   "source": []
  },
  {
   "cell_type": "code",
   "execution_count": null,
   "id": "9a6a51c9",
   "metadata": {},
   "outputs": [],
   "source": []
  }
 ],
 "metadata": {
  "kernelspec": {
   "display_name": "Python 3 (ipykernel)",
   "language": "python",
   "name": "python3"
  },
  "language_info": {
   "codemirror_mode": {
    "name": "ipython",
    "version": 3
   },
   "file_extension": ".py",
   "mimetype": "text/x-python",
   "name": "python",
   "nbconvert_exporter": "python",
   "pygments_lexer": "ipython3",
   "version": "3.9.7"
  }
 },
 "nbformat": 4,
 "nbformat_minor": 5
}
